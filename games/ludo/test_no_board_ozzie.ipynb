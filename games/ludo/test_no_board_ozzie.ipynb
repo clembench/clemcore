{
 "cells": [
  {
   "cell_type": "code",
   "execution_count": 2,
   "metadata": {},
   "outputs": [],
   "source": [
    "import os\n",
    "os.chdir('/Users/ozgecanyuzer/Documents/GitHub/ludo_clembench')\n"
   ]
  },
  {
   "cell_type": "code",
   "execution_count": 3,
   "metadata": {},
   "outputs": [],
   "source": [
    "from backends import ModelSpec, Model, get_model_for, load_model_registry\n",
    "#need to add api key\n",
    "#need to add model_name in the dict\n",
    "#need to create key.json\n",
    "load_model_registry()  # load default model registry from backends folder\n",
    "THIS_MODEL = dict(model_id=\"gpt-3.5-turbo-1106\", backend=\"openai\", model_name = \"gpt-3.5-turbo-1106\") # works without registered entry when openai_api.py backend is available\n"
   ]
  },
  {
   "cell_type": "code",
   "execution_count": 127,
   "metadata": {},
   "outputs": [],
   "source": [
    "lmm: Model = get_model_for(THIS_MODEL)\n",
    "\n",
    "lmm.set_gen_args(temperature=0.0, max_tokens=400)\n"
   ]
  },
  {
   "cell_type": "code",
   "execution_count": 205,
   "metadata": {},
   "outputs": [],
   "source": [
    "import re\n",
    "\n",
    "# System prompt\n",
    "with open('/Users/ozgecanyuzer/Documents/GitHub/ludo_clembench/games/ludo/resources/initial_prompts/simple_prompt_v1.txt', 'r') as f:\n",
    "    sys_prompt = f.read()\n",
    "\n",
    "# Initial instruction\n",
    "with open('/Users/ozgecanyuzer/Documents/GitHub/ludo_clembench/games/ludo/resources/initial_prompts/no_board_prompt_multiple_tokens.txt', 'r') as f:\n",
    "    content = f.read()\n",
    "\n",
    "prefix = \"MY MOVE:\"\n",
    "\n",
    "class Game():\n",
    "    def __init__(self, lmm, initial_msg, sys_prompt):\n",
    "        self.num_fields = 23\n",
    "        self.current_pos = {'X': 0, 'Y': 0}  # Track positions of both tokens\n",
    "        self.msg = initial_msg  # initial message -> contains game instructions\n",
    "        self.last_response = []\n",
    "        self.sys_prompt = sys_prompt  # system prompt\n",
    "        self.lmm = lmm  # language model object\n",
    "        self.rolls = [6, 6, 4, 5, 6, 1]  # list of rolls per turn\n",
    "        self.board = \"□ □ □ □ □ □ □ □ □ □ □ □ □ □ □ □ □ □ □ □ □ □ □\"\n",
    "        self.turn = 0  # turn counter\n",
    "        self.context = []  # memorized context\n",
    "        self.current_state = ''  # current state of the board\n",
    "        self.prefix = \"MY MOVE:\"  # used to parse the response\n",
    "        self.sign = \" -> \"\n",
    "        self.tokens_out = {'X': False, 'Y': False}  # Track which tokens are on the board\n",
    "        self.six_count = 0  # Counter for number of 6s rolled\n",
    "\n",
    "    def make_move(self):\n",
    "        while self.turn < len(self.rolls):\n",
    "            if self.turn == 0:  # first turn prompt is slightly different\n",
    "                in_m = f\"Are you ready to play?\\nBeginning State: {self.board}\\n Turn num: {self.turn}, Roll: {self.rolls[self.turn]}. Where will you move your token? Let's think step by step.\"\n",
    "                self.add_message(self.msg + '\\n' + in_m)\n",
    "                init_prompt, init_resp, init_resp_text = self.lmm.generate_response(self.context)\n",
    "                move = self.parse_reply(init_resp_text)\n",
    "                if self.check_move(move, self.rolls[self.turn]) == True:\n",
    "                    self.update_board(move)\n",
    "                    self.add_message(init_resp_text, role='assistant')\n",
    "                    self.turn += 1  # updates step\n",
    "                    token, pos = move\n",
    "                    self.tokens_out[token] = True\n",
    "                    self.current_pos[token] = pos\n",
    "                    self.last_response = init_resp_text\n",
    "                    if self.rolls[self.turn - 1] == 6:\n",
    "                        self.six_count += 1\n",
    "                else:\n",
    "                    print(f'fail at turn: {self.turn}')\n",
    "                    print(f'roll: {self.rolls[self.turn]}')\n",
    "                    print(f'{init_resp_text}')\n",
    "                    self.last_response = init_resp_text\n",
    "                    print(self.current_state)\n",
    "            else:\n",
    "                # if not first turn\n",
    "                m = f\"Current state: {self.current_state}\\n Next turn number: {self.turn}, Roll: {self.rolls[self.turn]}.\\n Where will you move your token? Let's think step by step.\"\n",
    "                self.add_message(m, role='user')\n",
    "                given_prompt, response, response_text = self.lmm.generate_response(self.context)\n",
    "\n",
    "                move = self.parse_reply(response_text)\n",
    "                if self.check_move(move, self.rolls[self.turn]) == True:\n",
    "                    self.update_board(move)\n",
    "                    token, pos = move\n",
    "                    self.current_pos[token] = pos\n",
    "                    self.add_message(response_text, role='assistant')\n",
    "                    self.turn += 1\n",
    "                    if self.rolls[self.turn - 1] == 6:\n",
    "                        self.six_count += 1\n",
    "                    print(self.current_state)\n",
    "                else:\n",
    "                    print(f'fail at turn: {self.turn}')\n",
    "                    print(f'roll: {self.rolls[self.turn]}')\n",
    "                    print(f'{response_text}')\n",
    "                    print(f'move: {move}')\n",
    "                    print(self.current_state)\n",
    "\n",
    "    def check_move(self, move, roll):\n",
    "        token, new_pos = move\n",
    "        if not self.tokens_out[token]:\n",
    "            if roll == 6 and new_pos == 1:\n",
    "                return True\n",
    "            elif roll != 6 and new_pos == 0:\n",
    "                return True\n",
    "            else:\n",
    "                return False\n",
    "\n",
    "        if new_pos > self.num_fields:\n",
    "            return False\n",
    "        if self.current_pos[token] > new_pos:\n",
    "            return False\n",
    "        if roll + self.current_pos[token] == new_pos:\n",
    "            return True\n",
    "        else:\n",
    "            return False\n",
    "\n",
    "    def parse_reply(self, text):\n",
    "        match = re.search(r'MY MOVE:\\s*([XY])\\s*->\\s*(\\d+)', text)\n",
    "        if not match:\n",
    "            raise ValueError(\"Invalid response format\")\n",
    "        token = match.group(1)\n",
    "        position = int(match.group(2))\n",
    "        return token, position\n",
    "\n",
    "    def update_board(self, move):\n",
    "        token, pos = move\n",
    "        split_b = self.board.split()\n",
    "        if self.tokens_out[token]:\n",
    "            split_b[self.current_pos[token] - 1] = '□'\n",
    "        split_b[pos - 1] = token\n",
    "        self.board = ' '.join(split_b)\n",
    "        self.current_state = self.board\n",
    "\n",
    "    def add_message(self, message, role='user'):\n",
    "        # add message to context\n",
    "        if self.context == []:\n",
    "            self.context = [\n",
    "                {\"role\": \"system\", \"content\": self.sys_prompt}\n",
    "            ]\n",
    "        self.context.append({\"role\": role, \"content\": message})\n",
    "\n",
    "    def reset(self):\n",
    "        # resets game state\n",
    "        self.turn = 0\n",
    "        self.context = []\n"
   ]
  },
  {
   "cell_type": "code",
   "execution_count": 206,
   "metadata": {},
   "outputs": [],
   "source": [
    "instance = Game(lmm, content, sys_prompt)"
   ]
  },
  {
   "cell_type": "code",
   "execution_count": 207,
   "metadata": {},
   "outputs": [
    {
     "data": {
      "text/plain": [
       "0"
      ]
     },
     "execution_count": 207,
     "metadata": {},
     "output_type": "execute_result"
    }
   ],
   "source": [
    "instance.turn\n"
   ]
  },
  {
   "cell_type": "code",
   "execution_count": 208,
   "metadata": {},
   "outputs": [
    {
     "name": "stdout",
     "output_type": "stream",
     "text": [
      "□ □ □ □ □ □ X □ □ □ □ □ □ □ □ □ □ □ □ □ □ □ □\n",
      "□ □ □ □ □ □ □ □ □ □ X □ □ □ □ □ □ □ □ □ □ □ □\n",
      "□ □ □ □ □ □ □ □ □ □ □ □ □ □ □ X □ □ □ □ □ □ □\n",
      "□ □ □ □ □ □ □ □ □ □ □ □ □ □ □ □ □ □ □ □ □ X □\n",
      "□ □ □ □ □ □ □ □ □ □ □ □ □ □ □ □ □ □ □ □ □ □ X\n"
     ]
    }
   ],
   "source": [
    "instance.make_move()\n"
   ]
  },
  {
   "cell_type": "code",
   "execution_count": 209,
   "metadata": {},
   "outputs": [
    {
     "data": {
      "text/plain": [
       "[{'role': 'system',\n",
       "  'content': 'You are an avid board game player who likes to play the game according to the given rules.\\n\\n'},\n",
       " {'role': 'user',\n",
       "  'content': 'Welcome to ludogame! Your task is to move a from start to end across the board. I will give you a board with empty fields. An empty field is marked like this □.\\nYour tokens is marked with X and Y. You tokens X or Y counts as an occupied field. The total number of fields remains unchanged throughout the game.\\n\\nGeneral instructions:\\n1) Every turn I will give you the current state of the grid. You must tell me what your next move is.\\n2) Your answers must contain the words \"MY MOVE:\", the instruction of how you want the token to move.\\n3) You must keep track of the state of the board in order to win the game.\\n4) Add a second token when the second 6 is rolled for the first time in the game. After that, decide on which token you want to move each round.\\n5) You need at least 2 tokens to be on the board to finish the game.\\n\\nMovement:\\n1) You are only allowed to move if you have a token on the board.\\n2) In the beginning of the game, you do not have any tokens on the board.\\n3) You are only allowed to add your token when I roll a 6. The token is placed on the 1st field on the board.\\n4) If I do not roll a 6, your token cannot be added to the board.\\n5) You can only move from left to right.\\n6) You are only allowed to move when I roll a die.\\n7) You need to move the same number of fields as given by the roll.\\n8) Once you move a token, the previously occupied field is marked with □.\\n9) Fields are counted from left to right.\\n10) If there is already a token on the board and I roll a 6, you can move the token on the board or add the second token. It\\'s up to you.\\nPlease note: you need to keep track of your current position, and move N (rolled number) positions from it. It is important that you do that.\\n\\nEnding the game:\\n1) To end the game, you need to finish at the last field on the grid.\\n2) If a rolled number is higher than the number of remaining fields, you cannot move.\\n\\nNote: The board is updated at every turn. It is one continuous game. You need to memorize your position in the previous turn.\\nThe game begins when I give you the beginning state and roll the first number.\\nTake a deap breath and think through your every step.\\n\\nHere is an example of what one turn looks like. Let\\'s think step by step.\\n\\n\\nQ:\\nBeginning state: □ □ □ □ □ □ □ □ □ □ □ □ □ □ □ □ □ □ □ □ □ □ □\\nNext turn number: 0,  Roll: 6. Where will you move your token?\\nA:\\nThere are 23 empty fields and 0 occupied fields. In total: 23 + 0 = 23 fields. There are no tokens on the board. You have rolled a 6. This allows me to place my token on the board at field 1.\\nMY MOVE: X -> 1\\n\\n\\nHere is another example.\\nQ:\\nCurrent state: □ □ □ □ □ □ □ □ □ X □ □ □ □ □ □ □ □ □ □ □ □ □\\nNext turn number: 5, Roll: 4. Where will you move your token?\\nA:\\nThere are 22 empty fields and 1 occupied field. In total: 22 + 1 = 23 fields. My token is on field number 10. You have rolled 4. Since 10 + 4 = 14, I need to move my token to field number 14. This is 4 fields away from my previous position.\\nMY MOVE: X -> 14\\n\\n\\nHere is another example.\\nQ:\\nCurrent state: □ □ □ □ □ □ □ □ □ □ □ □ □ □ □ □ □ □ □ X □ □ □\\nNext turn number: 7, Roll: 5. Where will you move your token?\\nA:\\nThere are 22 empty fields and 1 occupied field. In total: 22 + 1 = 23 fields. My token is on field number 20. You have rolled 5. This is 5 fields away from my previous position. Since 20 + 5 = 25, and 25 > 23, I cannot move.\\nMY MOVE: X -> 20\\n\\nHere is another example.\\nQ:\\nCurrent state: □ □ □ □ □ □ □ □ □ □ □ X □ □ □ □ □ □ □ □ □ □ □\\nNext turn number: 8, Roll: 6. Where will you move your token?\\nA:\\nThere are 22 empty fields and 1 occupied field. In total: 22 + 1 = 23 fields. My token is on field number 12. You have rolled 6. I decide to move my existing token on the board. Since 12 + 6 = 18, I need to move my token to field number 18.\\nMY MOVE: X -> 18\\n\\nHere is another example.\\nQ:\\nCurrent state: □ □ □ □ □ □ □ □ □ □ □ X □ □ □ □ □ □ □ □ □ □ □\\nNext turn number: 8, Roll: 6. Where will you move your token?\\nA:\\nThere are 22 empty fields and 1 occupied field. In total: 22 + 1 = 23 fields. My token is on field number 12. You have rolled 6. I decide to put another token on the board.  This allows me to place my token on the board at field 1.\\nMY MOVE: Y -> 1\\n\\nHere is another example.\\nQ:\\nBeginning state: □ □ □ □ □ □ □ □ □ □ □ □ □ □ □ □ □ □ □ □ □ □ □\\nNext turn number: 0,  Roll: 5. Where will you move your token?\\nA:\\nThere are 23 empty fields and 0 occupied fields. In total: 23 + 0 = 23 fields. There are no tokens on the board. Since you have not rolled a 6, I cannot place a token on the board.\\nMY MOVE: X -> 0\\n\\n\\n\\nNow let\\'s really play the game.\\nAre you ready to play?\\nBeginning State: □ □ □ □ □ □ □ □ □ □ □ □ □ □ □ □ □ □ □ □ □ □ □\\n Turn num: 0, Roll: 6. Where will you move your token? Let\\'s think step by step.'},\n",
       " {'role': 'assistant',\n",
       "  'content': 'There are 23 empty fields and 0 occupied fields. In total: 23 + 0 = 23 fields. There are no tokens on the board. You have rolled a 6. This allows me to place my token on the board at field 1.\\n\\nMY MOVE: X -> 1'},\n",
       " {'role': 'user',\n",
       "  'content': \"Current state: X □ □ □ □ □ □ □ □ □ □ □ □ □ □ □ □ □ □ □ □ □ □\\n Next turn number: 1, Roll: 6.\\n Where will you move your token? Let's think step by step.\"},\n",
       " {'role': 'assistant',\n",
       "  'content': 'There are 22 empty fields and 1 occupied field. In total: 22 + 1 = 23 fields. My token is on field number 1. You have rolled a 6. I decide to move my existing token on the board. Since 1 + 6 = 7, I need to move my token to field number 7.\\n\\nMY MOVE: X -> 7'},\n",
       " {'role': 'user',\n",
       "  'content': \"Current state: □ □ □ □ □ □ X □ □ □ □ □ □ □ □ □ □ □ □ □ □ □ □\\n Next turn number: 2, Roll: 4.\\n Where will you move your token? Let's think step by step.\"},\n",
       " {'role': 'assistant',\n",
       "  'content': 'There are 22 empty fields and 1 occupied field. In total: 22 + 1 = 23 fields. My token is on field number 7. You have rolled 4. Since 7 + 4 = 11, I need to move my token to field number 11.\\n\\nMY MOVE: X -> 11'},\n",
       " {'role': 'user',\n",
       "  'content': \"Current state: □ □ □ □ □ □ □ □ □ □ X □ □ □ □ □ □ □ □ □ □ □ □\\n Next turn number: 3, Roll: 5.\\n Where will you move your token? Let's think step by step.\"},\n",
       " {'role': 'assistant',\n",
       "  'content': 'There are 22 empty fields and 1 occupied field. In total: 22 + 1 = 23 fields. My token is on field number 11. You have rolled 5. Since 11 + 5 = 16, I need to move my token to field number 16.\\n\\nMY MOVE: X -> 16'},\n",
       " {'role': 'user',\n",
       "  'content': \"Current state: □ □ □ □ □ □ □ □ □ □ □ □ □ □ □ X □ □ □ □ □ □ □\\n Next turn number: 4, Roll: 6.\\n Where will you move your token? Let's think step by step.\"},\n",
       " {'role': 'assistant',\n",
       "  'content': 'There are 22 empty fields and 1 occupied field. In total: 22 + 1 = 23 fields. My token is on field number 16. You have rolled a 6. I decide to move my existing token on the board. Since 16 + 6 = 22, I need to move my token to field number 22.\\n\\nMY MOVE: X -> 22'},\n",
       " {'role': 'user',\n",
       "  'content': \"Current state: □ □ □ □ □ □ □ □ □ □ □ □ □ □ □ □ □ □ □ □ □ X □\\n Next turn number: 5, Roll: 1.\\n Where will you move your token? Let's think step by step.\"},\n",
       " {'role': 'assistant',\n",
       "  'content': 'There are 22 empty fields and 1 occupied field. In total: 22 + 1 = 23 fields. My token is on field number 22. You have rolled 1. Since 22 + 1 = 23, I need to move my token to the last field on the board.\\n\\nMY MOVE: X -> 23'}]"
      ]
     },
     "execution_count": 209,
     "metadata": {},
     "output_type": "execute_result"
    }
   ],
   "source": [
    "instance.context"
   ]
  },
  {
   "cell_type": "code",
   "execution_count": null,
   "metadata": {},
   "outputs": [],
   "source": []
  }
 ],
 "metadata": {
  "kernelspec": {
   "display_name": "Python 3",
   "language": "python",
   "name": "python3"
  },
  "language_info": {
   "codemirror_mode": {
    "name": "ipython",
    "version": 3
   },
   "file_extension": ".py",
   "mimetype": "text/x-python",
   "name": "python",
   "nbconvert_exporter": "python",
   "pygments_lexer": "ipython3",
   "version": "3.9.18"
  }
 },
 "nbformat": 4,
 "nbformat_minor": 2
}
